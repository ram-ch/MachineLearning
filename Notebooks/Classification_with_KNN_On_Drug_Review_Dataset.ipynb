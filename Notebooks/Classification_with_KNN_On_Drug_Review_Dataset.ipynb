{
 "cells": [
  {
   "cell_type": "markdown",
   "metadata": {},
   "source": [
    "### Introduction:   \n",
    "In this note book we will build a K nearest neighbour classifier on Drug Review dataset to classify the sentiments of the patients based on the ratings given against each drug."
   ]
  },
  {
   "cell_type": "code",
   "execution_count": 1,
   "metadata": {},
   "outputs": [
    {
     "name": "stderr",
     "output_type": "stream",
     "text": [
      "C:\\Users\\sairam.chennapragada\\AppData\\Local\\Continuum\\anaconda3\\lib\\importlib\\_bootstrap.py:219: RuntimeWarning: numpy.ufunc size changed, may indicate binary incompatibility. Expected 216, got 192\n",
      "  return f(*args, **kwds)\n",
      "C:\\Users\\sairam.chennapragada\\AppData\\Local\\Continuum\\anaconda3\\lib\\importlib\\_bootstrap.py:219: ImportWarning: can't resolve package from __spec__ or __package__, falling back on __name__ and __path__\n",
      "  return f(*args, **kwds)\n",
      "C:\\Users\\sairam.chennapragada\\AppData\\Local\\Continuum\\anaconda3\\lib\\importlib\\_bootstrap.py:219: RuntimeWarning: numpy.ufunc size changed, may indicate binary incompatibility. Expected 192 from C header, got 216 from PyObject\n",
      "  return f(*args, **kwds)\n"
     ]
    }
   ],
   "source": [
    "# libraries\n",
    "%matplotlib inline\n",
    "import warnings\n",
    "warnings.filterwarnings(\"ignore\")\n",
    "import pandas as pd  \n",
    "import numpy as np\n",
    "import nltk\n",
    "import re\n",
    "from tqdm import tqdm_notebook as tqdm\n",
    "from sklearn.feature_extraction.text import TfidfVectorizer\n",
    "from sklearn.preprocessing import Normalizer\n",
    "from scipy.sparse import hstack\n",
    "from sklearn.model_selection import GridSearchCV\n",
    "from sklearn.neighbors import KNeighborsClassifier\n",
    "from pactools.grid_search import GridSearchCVProgressBar\n",
    "import pickle\n",
    "import matplotlib.pyplot as plt\n",
    "import seaborn as sn\n",
    "from sklearn.metrics import roc_curve, auc\n",
    "from sklearn.metrics import confusion_matrix\n",
    "from sklearn.metrics import classification_report\n",
    "import pickle"
   ]
  },
  {
   "cell_type": "markdown",
   "metadata": {},
   "source": [
    "### Loading the dataset:     "
   ]
  },
  {
   "cell_type": "code",
   "execution_count": 2,
   "metadata": {},
   "outputs": [],
   "source": [
    "# Data source https://archive.ics.uci.edu/ml/datasets/Drug+Review+Dataset+%28Drugs.com%29\n",
    "drug_review_train = pd.read_csv(\"Train_raw.tsv\", sep='\\t')\n",
    "drug_review_test = pd.read_csv(\"Test_raw.tsv\", sep='\\t')"
   ]
  },
  {
   "cell_type": "code",
   "execution_count": 3,
   "metadata": {},
   "outputs": [
    {
     "data": {
      "text/html": [
       "<div>\n",
       "<style scoped>\n",
       "    .dataframe tbody tr th:only-of-type {\n",
       "        vertical-align: middle;\n",
       "    }\n",
       "\n",
       "    .dataframe tbody tr th {\n",
       "        vertical-align: top;\n",
       "    }\n",
       "\n",
       "    .dataframe thead th {\n",
       "        text-align: right;\n",
       "    }\n",
       "</style>\n",
       "<table border=\"1\" class=\"dataframe\">\n",
       "  <thead>\n",
       "    <tr style=\"text-align: right;\">\n",
       "      <th></th>\n",
       "      <th>Unnamed: 0</th>\n",
       "      <th>drugName</th>\n",
       "      <th>condition</th>\n",
       "      <th>review</th>\n",
       "      <th>rating</th>\n",
       "      <th>date</th>\n",
       "      <th>usefulCount</th>\n",
       "    </tr>\n",
       "  </thead>\n",
       "  <tbody>\n",
       "    <tr>\n",
       "      <th>0</th>\n",
       "      <td>206461</td>\n",
       "      <td>Valsartan</td>\n",
       "      <td>Left Ventricular Dysfunction</td>\n",
       "      <td>\"It has no side effect, I take it in combinati...</td>\n",
       "      <td>9.0</td>\n",
       "      <td>May 20, 2012</td>\n",
       "      <td>27</td>\n",
       "    </tr>\n",
       "    <tr>\n",
       "      <th>1</th>\n",
       "      <td>95260</td>\n",
       "      <td>Guanfacine</td>\n",
       "      <td>ADHD</td>\n",
       "      <td>\"My son is halfway through his fourth week of ...</td>\n",
       "      <td>8.0</td>\n",
       "      <td>April 27, 2010</td>\n",
       "      <td>192</td>\n",
       "    </tr>\n",
       "    <tr>\n",
       "      <th>2</th>\n",
       "      <td>92703</td>\n",
       "      <td>Lybrel</td>\n",
       "      <td>Birth Control</td>\n",
       "      <td>\"I used to take another oral contraceptive, wh...</td>\n",
       "      <td>5.0</td>\n",
       "      <td>December 14, 2009</td>\n",
       "      <td>17</td>\n",
       "    </tr>\n",
       "    <tr>\n",
       "      <th>3</th>\n",
       "      <td>138000</td>\n",
       "      <td>Ortho Evra</td>\n",
       "      <td>Birth Control</td>\n",
       "      <td>\"This is my first time using any form of birth...</td>\n",
       "      <td>8.0</td>\n",
       "      <td>November 3, 2015</td>\n",
       "      <td>10</td>\n",
       "    </tr>\n",
       "    <tr>\n",
       "      <th>4</th>\n",
       "      <td>35696</td>\n",
       "      <td>Buprenorphine / naloxone</td>\n",
       "      <td>Opiate Dependence</td>\n",
       "      <td>\"Suboxone has completely turned my life around...</td>\n",
       "      <td>9.0</td>\n",
       "      <td>November 27, 2016</td>\n",
       "      <td>37</td>\n",
       "    </tr>\n",
       "  </tbody>\n",
       "</table>\n",
       "</div>"
      ],
      "text/plain": [
       "   Unnamed: 0                  drugName                     condition  \\\n",
       "0      206461                 Valsartan  Left Ventricular Dysfunction   \n",
       "1       95260                Guanfacine                          ADHD   \n",
       "2       92703                    Lybrel                 Birth Control   \n",
       "3      138000                Ortho Evra                 Birth Control   \n",
       "4       35696  Buprenorphine / naloxone             Opiate Dependence   \n",
       "\n",
       "                                              review  rating  \\\n",
       "0  \"It has no side effect, I take it in combinati...     9.0   \n",
       "1  \"My son is halfway through his fourth week of ...     8.0   \n",
       "2  \"I used to take another oral contraceptive, wh...     5.0   \n",
       "3  \"This is my first time using any form of birth...     8.0   \n",
       "4  \"Suboxone has completely turned my life around...     9.0   \n",
       "\n",
       "                date  usefulCount  \n",
       "0       May 20, 2012           27  \n",
       "1     April 27, 2010          192  \n",
       "2  December 14, 2009           17  \n",
       "3   November 3, 2015           10  \n",
       "4  November 27, 2016           37  "
      ]
     },
     "execution_count": 3,
     "metadata": {},
     "output_type": "execute_result"
    }
   ],
   "source": [
    "drug_review_train.head()"
   ]
  },
  {
   "cell_type": "markdown",
   "metadata": {},
   "source": [
    "The patient ID(Unnamed) ,date column can be removed from the analysis. Since they donot directly contribute for the algorithm during the learning process. Also, we are considering the rating column as the target for the classification task"
   ]
  },
  {
   "cell_type": "code",
   "execution_count": 4,
   "metadata": {},
   "outputs": [
    {
     "name": "stdout",
     "output_type": "stream",
     "text": [
      "==================================================\n",
      "Trainset\n",
      "==================================================\n",
      "No.of rows with nan values in drugName:  0\n",
      "No.of rows with nan values in condition:  899\n",
      "No.of rows with nan values in review:  0\n",
      "No.of rows with nan values in rating:  0\n",
      "No.of rows with nan values in usefulCount:  0\n",
      "==================================================\n",
      "Testset\n",
      "==================================================\n",
      "No.of rows with nan values in drugName:  0\n",
      "No.of rows with nan values in condition:  295\n",
      "No.of rows with nan values in review:  0\n",
      "No.of rows with nan values in rating:  0\n",
      "No.of rows with nan values in usefulCount:  0\n"
     ]
    }
   ],
   "source": [
    "# Checking for missing values in each column of train\n",
    "print(\"=\"*50)\n",
    "print(\"Trainset\")\n",
    "print(\"=\"*50)\n",
    "print(\"No.of rows with nan values in drugName: \",drug_review_train['drugName'].isnull().values.sum())\n",
    "print(\"No.of rows with nan values in condition: \",drug_review_train['condition'].isnull().values.sum())\n",
    "print(\"No.of rows with nan values in review: \",drug_review_train['review'].isnull().values.sum())\n",
    "print(\"No.of rows with nan values in rating: \",drug_review_train['rating'].isnull().values.sum())\n",
    "print(\"No.of rows with nan values in usefulCount: \",drug_review_train['usefulCount'].isnull().values.sum())\n",
    "# Replacing all 'nan' with 'Other'\n",
    "drug_review_train.replace(np.nan, \"Other\", inplace = True, regex = True)\n",
    "print(\"=\"*50)\n",
    "print(\"Testset\")\n",
    "print(\"=\"*50)\n",
    "# Checking for missing values in each column of test\n",
    "print(\"No.of rows with nan values in drugName: \",drug_review_test['drugName'].isnull().values.sum())\n",
    "print(\"No.of rows with nan values in condition: \",drug_review_test['condition'].isnull().values.sum())\n",
    "print(\"No.of rows with nan values in review: \",drug_review_test['review'].isnull().values.sum())\n",
    "print(\"No.of rows with nan values in rating: \",drug_review_test['rating'].isnull().values.sum())\n",
    "print(\"No.of rows with nan values in usefulCount: \",drug_review_test['usefulCount'].isnull().values.sum())\n",
    "# Replacing all 'nan' with 'Other'\n",
    "drug_review_test.replace(np.nan, \"Other\", inplace = True, regex = True)"
   ]
  },
  {
   "cell_type": "markdown",
   "metadata": {},
   "source": [
    "All missing values in the drugName column are replaced by the word 'Other'"
   ]
  },
  {
   "cell_type": "code",
   "execution_count": 5,
   "metadata": {},
   "outputs": [
    {
     "data": {
      "text/html": [
       "<div>\n",
       "<style scoped>\n",
       "    .dataframe tbody tr th:only-of-type {\n",
       "        vertical-align: middle;\n",
       "    }\n",
       "\n",
       "    .dataframe tbody tr th {\n",
       "        vertical-align: top;\n",
       "    }\n",
       "\n",
       "    .dataframe thead th {\n",
       "        text-align: right;\n",
       "    }\n",
       "</style>\n",
       "<table border=\"1\" class=\"dataframe\">\n",
       "  <thead>\n",
       "    <tr style=\"text-align: right;\">\n",
       "      <th></th>\n",
       "      <th>Unnamed: 0</th>\n",
       "      <th>drugName</th>\n",
       "      <th>condition</th>\n",
       "      <th>review</th>\n",
       "      <th>rating</th>\n",
       "      <th>date</th>\n",
       "      <th>usefulCount</th>\n",
       "    </tr>\n",
       "  </thead>\n",
       "  <tbody>\n",
       "    <tr>\n",
       "      <th>0</th>\n",
       "      <td>163740</td>\n",
       "      <td>Mirtazapine</td>\n",
       "      <td>Depression</td>\n",
       "      <td>\"I&amp;#039;ve tried a few antidepressants over th...</td>\n",
       "      <td>10.0</td>\n",
       "      <td>February 28, 2012</td>\n",
       "      <td>22</td>\n",
       "    </tr>\n",
       "    <tr>\n",
       "      <th>1</th>\n",
       "      <td>206473</td>\n",
       "      <td>Mesalamine</td>\n",
       "      <td>Crohn's Disease, Maintenance</td>\n",
       "      <td>\"My son has Crohn&amp;#039;s disease and has done ...</td>\n",
       "      <td>8.0</td>\n",
       "      <td>May 17, 2009</td>\n",
       "      <td>17</td>\n",
       "    </tr>\n",
       "    <tr>\n",
       "      <th>2</th>\n",
       "      <td>159672</td>\n",
       "      <td>Bactrim</td>\n",
       "      <td>Urinary Tract Infection</td>\n",
       "      <td>\"Quick reduction of symptoms\"</td>\n",
       "      <td>9.0</td>\n",
       "      <td>September 29, 2017</td>\n",
       "      <td>3</td>\n",
       "    </tr>\n",
       "    <tr>\n",
       "      <th>3</th>\n",
       "      <td>39293</td>\n",
       "      <td>Contrave</td>\n",
       "      <td>Weight Loss</td>\n",
       "      <td>\"Contrave combines drugs that were used for al...</td>\n",
       "      <td>9.0</td>\n",
       "      <td>March 5, 2017</td>\n",
       "      <td>35</td>\n",
       "    </tr>\n",
       "    <tr>\n",
       "      <th>4</th>\n",
       "      <td>97768</td>\n",
       "      <td>Cyclafem 1 / 35</td>\n",
       "      <td>Birth Control</td>\n",
       "      <td>\"I have been on this birth control for one cyc...</td>\n",
       "      <td>9.0</td>\n",
       "      <td>October 22, 2015</td>\n",
       "      <td>4</td>\n",
       "    </tr>\n",
       "  </tbody>\n",
       "</table>\n",
       "</div>"
      ],
      "text/plain": [
       "   Unnamed: 0         drugName                     condition  \\\n",
       "0      163740      Mirtazapine                    Depression   \n",
       "1      206473       Mesalamine  Crohn's Disease, Maintenance   \n",
       "2      159672          Bactrim       Urinary Tract Infection   \n",
       "3       39293         Contrave                   Weight Loss   \n",
       "4       97768  Cyclafem 1 / 35                 Birth Control   \n",
       "\n",
       "                                              review  rating  \\\n",
       "0  \"I&#039;ve tried a few antidepressants over th...    10.0   \n",
       "1  \"My son has Crohn&#039;s disease and has done ...     8.0   \n",
       "2                      \"Quick reduction of symptoms\"     9.0   \n",
       "3  \"Contrave combines drugs that were used for al...     9.0   \n",
       "4  \"I have been on this birth control for one cyc...     9.0   \n",
       "\n",
       "                 date  usefulCount  \n",
       "0   February 28, 2012           22  \n",
       "1        May 17, 2009           17  \n",
       "2  September 29, 2017            3  \n",
       "3       March 5, 2017           35  \n",
       "4    October 22, 2015            4  "
      ]
     },
     "execution_count": 5,
     "metadata": {},
     "output_type": "execute_result"
    }
   ],
   "source": [
    "drug_review_test.head()"
   ]
  },
  {
   "cell_type": "code",
   "execution_count": 6,
   "metadata": {},
   "outputs": [],
   "source": [
    "# dropping the patient id column, date from train and test \n",
    "del drug_review_train['Unnamed: 0']\n",
    "del drug_review_train['date']\n",
    "del drug_review_test['Unnamed: 0']\n",
    "del drug_review_test['date']\n",
    "# moving rating column to the end in train\n",
    "drug_review_train = drug_review_train[['drugName', 'condition', 'review', 'usefulCount', 'rating']]\n",
    "drug_review_test = drug_review_test[['drugName', 'condition', 'review', 'usefulCount', 'rating']]"
   ]
  },
  {
   "cell_type": "markdown",
   "metadata": {},
   "source": [
    "Any rating below 5.0 is considered to be Negative (NEG) and any rating above 5.0 is considered to be positive (POS). In both train and test datasets"
   ]
  },
  {
   "cell_type": "code",
   "execution_count": 7,
   "metadata": {},
   "outputs": [
    {
     "data": {
      "application/vnd.jupyter.widget-view+json": {
       "model_id": "461d15efae814888b990409581593e67",
       "version_major": 2,
       "version_minor": 0
      },
      "text/plain": [
       "HBox(children=(IntProgress(value=0, max=161297), HTML(value='')))"
      ]
     },
     "metadata": {},
     "output_type": "display_data"
    },
    {
     "name": "stdout",
     "output_type": "stream",
     "text": [
      "\n"
     ]
    },
    {
     "data": {
      "application/vnd.jupyter.widget-view+json": {
       "model_id": "0f6d7789f7ed404280381a8522e04507",
       "version_major": 2,
       "version_minor": 0
      },
      "text/plain": [
       "HBox(children=(IntProgress(value=0, max=53766), HTML(value='')))"
      ]
     },
     "metadata": {},
     "output_type": "display_data"
    },
    {
     "name": "stdout",
     "output_type": "stream",
     "text": [
      "\n"
     ]
    }
   ],
   "source": [
    "# Creating a class label from the rating column\n",
    "# Rating > 5 is 'POS' and Rating < 5 is 'NEG'\n",
    "drug_review_train['rating'] = ['POS' if i > 5.0 else 'NEG' for i in tqdm(drug_review_train['rating'])]\n",
    "drug_review_test['rating'] = ['POS' if i > 5.0 else 'NEG' for i in tqdm(drug_review_test['rating'])]"
   ]
  },
  {
   "cell_type": "code",
   "execution_count": 8,
   "metadata": {},
   "outputs": [
    {
     "data": {
      "text/html": [
       "<div>\n",
       "<style scoped>\n",
       "    .dataframe tbody tr th:only-of-type {\n",
       "        vertical-align: middle;\n",
       "    }\n",
       "\n",
       "    .dataframe tbody tr th {\n",
       "        vertical-align: top;\n",
       "    }\n",
       "\n",
       "    .dataframe thead th {\n",
       "        text-align: right;\n",
       "    }\n",
       "</style>\n",
       "<table border=\"1\" class=\"dataframe\">\n",
       "  <thead>\n",
       "    <tr style=\"text-align: right;\">\n",
       "      <th></th>\n",
       "      <th>drugName</th>\n",
       "      <th>condition</th>\n",
       "      <th>review</th>\n",
       "      <th>usefulCount</th>\n",
       "      <th>rating</th>\n",
       "    </tr>\n",
       "  </thead>\n",
       "  <tbody>\n",
       "    <tr>\n",
       "      <th>0</th>\n",
       "      <td>Mirtazapine</td>\n",
       "      <td>Depression</td>\n",
       "      <td>\"I&amp;#039;ve tried a few antidepressants over th...</td>\n",
       "      <td>22</td>\n",
       "      <td>POS</td>\n",
       "    </tr>\n",
       "    <tr>\n",
       "      <th>1</th>\n",
       "      <td>Mesalamine</td>\n",
       "      <td>Crohn's Disease, Maintenance</td>\n",
       "      <td>\"My son has Crohn&amp;#039;s disease and has done ...</td>\n",
       "      <td>17</td>\n",
       "      <td>POS</td>\n",
       "    </tr>\n",
       "    <tr>\n",
       "      <th>2</th>\n",
       "      <td>Bactrim</td>\n",
       "      <td>Urinary Tract Infection</td>\n",
       "      <td>\"Quick reduction of symptoms\"</td>\n",
       "      <td>3</td>\n",
       "      <td>POS</td>\n",
       "    </tr>\n",
       "    <tr>\n",
       "      <th>3</th>\n",
       "      <td>Contrave</td>\n",
       "      <td>Weight Loss</td>\n",
       "      <td>\"Contrave combines drugs that were used for al...</td>\n",
       "      <td>35</td>\n",
       "      <td>POS</td>\n",
       "    </tr>\n",
       "    <tr>\n",
       "      <th>4</th>\n",
       "      <td>Cyclafem 1 / 35</td>\n",
       "      <td>Birth Control</td>\n",
       "      <td>\"I have been on this birth control for one cyc...</td>\n",
       "      <td>4</td>\n",
       "      <td>POS</td>\n",
       "    </tr>\n",
       "  </tbody>\n",
       "</table>\n",
       "</div>"
      ],
      "text/plain": [
       "          drugName                     condition  \\\n",
       "0      Mirtazapine                    Depression   \n",
       "1       Mesalamine  Crohn's Disease, Maintenance   \n",
       "2          Bactrim       Urinary Tract Infection   \n",
       "3         Contrave                   Weight Loss   \n",
       "4  Cyclafem 1 / 35                 Birth Control   \n",
       "\n",
       "                                              review  usefulCount rating  \n",
       "0  \"I&#039;ve tried a few antidepressants over th...           22    POS  \n",
       "1  \"My son has Crohn&#039;s disease and has done ...           17    POS  \n",
       "2                      \"Quick reduction of symptoms\"            3    POS  \n",
       "3  \"Contrave combines drugs that were used for al...           35    POS  \n",
       "4  \"I have been on this birth control for one cyc...            4    POS  "
      ]
     },
     "execution_count": 8,
     "metadata": {},
     "output_type": "execute_result"
    }
   ],
   "source": [
    "drug_review_test.head()"
   ]
  },
  {
   "cell_type": "code",
   "execution_count": 9,
   "metadata": {},
   "outputs": [
    {
     "data": {
      "text/html": [
       "<div>\n",
       "<style scoped>\n",
       "    .dataframe tbody tr th:only-of-type {\n",
       "        vertical-align: middle;\n",
       "    }\n",
       "\n",
       "    .dataframe tbody tr th {\n",
       "        vertical-align: top;\n",
       "    }\n",
       "\n",
       "    .dataframe thead th {\n",
       "        text-align: right;\n",
       "    }\n",
       "</style>\n",
       "<table border=\"1\" class=\"dataframe\">\n",
       "  <thead>\n",
       "    <tr style=\"text-align: right;\">\n",
       "      <th></th>\n",
       "      <th>drugName</th>\n",
       "      <th>condition</th>\n",
       "      <th>review</th>\n",
       "      <th>usefulCount</th>\n",
       "      <th>rating</th>\n",
       "    </tr>\n",
       "  </thead>\n",
       "  <tbody>\n",
       "    <tr>\n",
       "      <th>0</th>\n",
       "      <td>Valsartan</td>\n",
       "      <td>Left Ventricular Dysfunction</td>\n",
       "      <td>\"It has no side effect, I take it in combinati...</td>\n",
       "      <td>27</td>\n",
       "      <td>POS</td>\n",
       "    </tr>\n",
       "    <tr>\n",
       "      <th>1</th>\n",
       "      <td>Guanfacine</td>\n",
       "      <td>ADHD</td>\n",
       "      <td>\"My son is halfway through his fourth week of ...</td>\n",
       "      <td>192</td>\n",
       "      <td>POS</td>\n",
       "    </tr>\n",
       "    <tr>\n",
       "      <th>2</th>\n",
       "      <td>Lybrel</td>\n",
       "      <td>Birth Control</td>\n",
       "      <td>\"I used to take another oral contraceptive, wh...</td>\n",
       "      <td>17</td>\n",
       "      <td>NEG</td>\n",
       "    </tr>\n",
       "    <tr>\n",
       "      <th>3</th>\n",
       "      <td>Ortho Evra</td>\n",
       "      <td>Birth Control</td>\n",
       "      <td>\"This is my first time using any form of birth...</td>\n",
       "      <td>10</td>\n",
       "      <td>POS</td>\n",
       "    </tr>\n",
       "    <tr>\n",
       "      <th>4</th>\n",
       "      <td>Buprenorphine / naloxone</td>\n",
       "      <td>Opiate Dependence</td>\n",
       "      <td>\"Suboxone has completely turned my life around...</td>\n",
       "      <td>37</td>\n",
       "      <td>POS</td>\n",
       "    </tr>\n",
       "  </tbody>\n",
       "</table>\n",
       "</div>"
      ],
      "text/plain": [
       "                   drugName                     condition  \\\n",
       "0                 Valsartan  Left Ventricular Dysfunction   \n",
       "1                Guanfacine                          ADHD   \n",
       "2                    Lybrel                 Birth Control   \n",
       "3                Ortho Evra                 Birth Control   \n",
       "4  Buprenorphine / naloxone             Opiate Dependence   \n",
       "\n",
       "                                              review  usefulCount rating  \n",
       "0  \"It has no side effect, I take it in combinati...           27    POS  \n",
       "1  \"My son is halfway through his fourth week of ...          192    POS  \n",
       "2  \"I used to take another oral contraceptive, wh...           17    NEG  \n",
       "3  \"This is my first time using any form of birth...           10    POS  \n",
       "4  \"Suboxone has completely turned my life around...           37    POS  "
      ]
     },
     "execution_count": 9,
     "metadata": {},
     "output_type": "execute_result"
    }
   ],
   "source": [
    "drug_review_train.head()"
   ]
  },
  {
   "cell_type": "code",
   "execution_count": 10,
   "metadata": {},
   "outputs": [],
   "source": [
    "# X train test split\n",
    "X_train = drug_review_train.copy(deep=True)\n",
    "del X_train['rating']\n",
    "X_test = drug_review_test.copy(deep=True)\n",
    "del X_test['rating']\n",
    "\n",
    "# y train test split\n",
    "y_train = drug_review_train['rating']\n",
    "y_test = drug_review_test['rating']"
   ]
  },
  {
   "cell_type": "markdown",
   "metadata": {},
   "source": [
    "### Cleaning & Text Preprocessing:  "
   ]
  },
  {
   "cell_type": "markdown",
   "metadata": {},
   "source": [
    "The columns 'review', 'condition', 'drugName' contains text data. These text fields should be cleaned before vectorization"
   ]
  },
  {
   "cell_type": "code",
   "execution_count": 11,
   "metadata": {},
   "outputs": [
    {
     "data": {
      "application/vnd.jupyter.widget-view+json": {
       "model_id": "c647c650008147fa84546b4ce3b37492",
       "version_major": 2,
       "version_minor": 0
      },
      "text/plain": [
       "HBox(children=(IntProgress(value=0, max=161297), HTML(value='')))"
      ]
     },
     "metadata": {},
     "output_type": "display_data"
    },
    {
     "name": "stdout",
     "output_type": "stream",
     "text": [
      "\n"
     ]
    },
    {
     "data": {
      "application/vnd.jupyter.widget-view+json": {
       "model_id": "adfbe6afa8eb4aa89c2181b2f5b973af",
       "version_major": 2,
       "version_minor": 0
      },
      "text/plain": [
       "HBox(children=(IntProgress(value=0, max=161297), HTML(value='')))"
      ]
     },
     "metadata": {},
     "output_type": "display_data"
    },
    {
     "name": "stdout",
     "output_type": "stream",
     "text": [
      "\n"
     ]
    },
    {
     "data": {
      "application/vnd.jupyter.widget-view+json": {
       "model_id": "b28712af75f34c0395886e93fdf69f31",
       "version_major": 2,
       "version_minor": 0
      },
      "text/plain": [
       "HBox(children=(IntProgress(value=0, max=53766), HTML(value='')))"
      ]
     },
     "metadata": {},
     "output_type": "display_data"
    },
    {
     "name": "stdout",
     "output_type": "stream",
     "text": [
      "\n"
     ]
    },
    {
     "data": {
      "application/vnd.jupyter.widget-view+json": {
       "model_id": "f4b22b08969948a789f65f6ac49b3ddd",
       "version_major": 2,
       "version_minor": 0
      },
      "text/plain": [
       "HBox(children=(IntProgress(value=0, max=161297), HTML(value='')))"
      ]
     },
     "metadata": {},
     "output_type": "display_data"
    },
    {
     "name": "stdout",
     "output_type": "stream",
     "text": [
      "\n"
     ]
    },
    {
     "data": {
      "application/vnd.jupyter.widget-view+json": {
       "model_id": "292b95cc564b4c00b30009f5aa249f83",
       "version_major": 2,
       "version_minor": 0
      },
      "text/plain": [
       "HBox(children=(IntProgress(value=0, max=53766), HTML(value='')))"
      ]
     },
     "metadata": {},
     "output_type": "display_data"
    },
    {
     "name": "stdout",
     "output_type": "stream",
     "text": [
      "\n"
     ]
    }
   ],
   "source": [
    "def text_preprocessor(phrase):\n",
    "    \"\"\"Method takes a phrase, cleans and return the phrase\"\"\"\n",
    "    # remove short forms\n",
    "    phrase = re.sub(r\"won't\", \"will not\", phrase)  # substitute \"won't\" with \"will not\" \n",
    "    phrase = re.sub(r\"can\\'t\", \"can not\", phrase)  # substitute \"can't\" with \"can not\"\n",
    "    phrase = re.sub(r\"n\\'t\", \" not\", phrase)       # substitute \"n't\" with \"not\"\n",
    "    phrase = re.sub(r\"\\'re\", \" are\", phrase)       # substitute \"'re\" with \"are\"\n",
    "    phrase = re.sub(r\"\\'s\", \" is\", phrase)         # substitute \"'s\" with \"is\" \n",
    "    phrase = re.sub(r\"\\'d\", \" would\", phrase)      # substitute \"'d\"  with \" would\"\n",
    "    phrase = re.sub(r\"\\'ll\", \" will\", phrase)      # substitute \"'ll\" with \" will\"\n",
    "    phrase = re.sub(r\"\\'t\", \" not\", phrase)        # substitute \"'t\" with \" not\"\n",
    "    phrase = re.sub(r\"\\'ve\", \" have\", phrase)      # substitute \"'ve\" with \" have\"\n",
    "    phrase = re.sub(r\"\\'m\", \" am\", phrase)         # substitute \"'m\" with \" am\"      \n",
    "    # remove special characters\n",
    "    phrase = re.sub('[^A-Za-z]+', ' ', phrase)     # remove all special characters except alphabets\n",
    "    phrase = phrase.replace('\\\\r', ' ')\n",
    "    phrase = phrase.replace('\\\\n', ' ')\n",
    "    phrase = phrase.replace('\\\\\"', ' ')    \n",
    "    # convert to lower case\n",
    "    phrase = ' '.join(e.lower() for e in phrase.split())\n",
    "    return phrase\n",
    "\n",
    "    \n",
    "# Text preprocessing - reviews\n",
    "X_train['review'] = [text_preprocessor(i) for i in tqdm(X_train['review'])] \n",
    "X_test['review'] = [text_preprocessor(i) for i in X_test['review']]     \n",
    "\n",
    "# Text preprocessing - condition\n",
    "X_train['condition'] = [text_preprocessor(i) for i in tqdm(X_train['condition'])] \n",
    "X_test['condition'] = [text_preprocessor(i) for i in tqdm(X_test['condition'])]     \n",
    "\n",
    "# Text preprocessing - drugName\n",
    "X_train['drugName'] = [text_preprocessor(i) for i in tqdm(X_train['drugName'])] \n",
    "X_test['drugName'] = [text_preprocessor(i) for i in tqdm(X_test['drugName'])]    "
   ]
  },
  {
   "cell_type": "markdown",
   "metadata": {},
   "source": [
    "###  Encoding categorical features: (TFIDF)"
   ]
  },
  {
   "cell_type": "markdown",
   "metadata": {},
   "source": [
    "Considering the term frequency inverse document frequency(TF-IDF) algorithm for vectorization of the text features. Other possible approaches are:   \n",
    "* Bag of Words (BOW)   \n",
    "* Word to Vector (Word2Vec)  \n",
    "* Average Word to Vector (AvgWord2Vec)     \n",
    "* TFIDFW2V\n",
    "* Google Word2Vec   \n",
    "* Hashing vectorizer   \n",
    "* GloVe  "
   ]
  },
  {
   "cell_type": "code",
   "execution_count": 12,
   "metadata": {},
   "outputs": [
    {
     "name": "stderr",
     "output_type": "stream",
     "text": [
      "C:\\Users\\sairam.chennapragada\\AppData\\Local\\Continuum\\anaconda3\\lib\\site-packages\\numpy\\matrixlib\\defmatrix.py:71: PendingDeprecationWarning: the matrix subclass is not the recommended way to represent matrices or deal with linear algebra (see https://docs.scipy.org/doc/numpy/user/numpy-for-matlab-users.html). Please adjust your code to use regular ndarray.\n",
      "  return matrix(data, dtype=dtype, copy=False)\n",
      "C:\\Users\\sairam.chennapragada\\AppData\\Local\\Continuum\\anaconda3\\lib\\site-packages\\ipykernel_launcher.py:5: ResourceWarning: unclosed file <_io.BufferedWriter name='tfidfvectorizer_drugName.pickle'>\n",
      "  \"\"\"\n"
     ]
    },
    {
     "name": "stdout",
     "output_type": "stream",
     "text": [
      "drugName (TFIDF) After vectorizations\n",
      "(161297, 1960) (161297,)\n",
      "(161297, 1960) (53766,)\n",
      "====================================================================================================\n"
     ]
    },
    {
     "name": "stderr",
     "output_type": "stream",
     "text": [
      "C:\\Users\\sairam.chennapragada\\AppData\\Local\\Continuum\\anaconda3\\lib\\site-packages\\ipykernel_launcher.py:18: ResourceWarning: unclosed file <_io.BufferedWriter name='tfidfvectorizer_condition.pickle'>\n"
     ]
    },
    {
     "name": "stdout",
     "output_type": "stream",
     "text": [
      "condition (TFIDF) After vectorizations\n",
      "(161297, 1257) (161297,)\n",
      "(53766, 1257) (53766,)\n",
      "====================================================================================================\n"
     ]
    },
    {
     "name": "stderr",
     "output_type": "stream",
     "text": [
      "C:\\Users\\sairam.chennapragada\\AppData\\Local\\Continuum\\anaconda3\\lib\\site-packages\\ipykernel_launcher.py:31: ResourceWarning: unclosed file <_io.BufferedWriter name='tfidfvectorizer_review.pickle'>\n"
     ]
    },
    {
     "name": "stdout",
     "output_type": "stream",
     "text": [
      "reviews (TFIDF) After vectorizations\n",
      "(161297, 327224) (161297,)\n",
      "(53766, 327224) (53766,)\n",
      "====================================================================================================\n"
     ]
    }
   ],
   "source": [
    "# encoding categorical features: drugName column\n",
    "tfidfvectorizer_drugName = TfidfVectorizer(min_df=10,ngram_range=(1,4))\n",
    "tfidfvectorizer_drugName.fit(X_train['drugName'].values) \n",
    "# Save the fitted vectorizer to the disk - To reuse it in production\n",
    "pickle.dump(tfidfvectorizer_drugName, open(\"tfidfvectorizer_drugName.pickle\", \"wb\"))\n",
    "# Fit to X_train['drugName'] and transform X_train['drugName'] X_test['drugName'] \n",
    "X_train_drugName_tfidf = tfidfvectorizer_drugName.transform(X_train['drugName'].values)\n",
    "X_test_drugName_tfidf = tfidfvectorizer_drugName.transform(X_test['drugName'].values)\n",
    "print(\"drugName (TFIDF) After vectorizations\")\n",
    "print(X_train_drugName_tfidf.shape, y_train.shape)\n",
    "print(X_train_drugName_tfidf.shape, y_test.shape)\n",
    "print(\"=\"*100)\n",
    "\n",
    "# encoding categorical features: condition column\n",
    "tfidfvectorizer_condition = TfidfVectorizer(min_df=10,ngram_range=(1,4))\n",
    "tfidfvectorizer_condition.fit(X_train['condition'].values) \n",
    "# Save the fitted vectorizer to the disk - To reuse it in production\n",
    "pickle.dump(tfidfvectorizer_condition, open(\"tfidfvectorizer_condition.pickle\", \"wb\"))\n",
    "# Fit to X_train['condition'] and transform X_train['condition'] X_test['condition'] \n",
    "X_train_condition_tfidf = tfidfvectorizer_condition.transform(X_train['condition'].values)\n",
    "X_test_condition_tfidf = tfidfvectorizer_condition.transform(X_test['condition'].values)\n",
    "print(\"condition (TFIDF) After vectorizations\")\n",
    "print(X_train_condition_tfidf.shape, y_train.shape)\n",
    "print(X_test_condition_tfidf.shape, y_test.shape)\n",
    "print(\"=\"*100)\n",
    "\n",
    "# encoding categorical features: reviews column\n",
    "tfidfvectorizer_review = TfidfVectorizer(min_df=10,ngram_range=(1,4))\n",
    "tfidfvectorizer_review.fit(X_train['review'].values) \n",
    "# Save the fitted vectorizer to the disk - To reuse it in production\n",
    "pickle.dump(tfidfvectorizer_review, open(\"tfidfvectorizer_review.pickle\", \"wb\"))\n",
    "# Fit to X_train['review'] and transform X_train['review'] X_test['review'] \n",
    "X_train_review_tfidf = tfidfvectorizer_review.transform(X_train['review'].values)\n",
    "X_test_review_tfidf = tfidfvectorizer_review.transform(X_test['review'].values)\n",
    "print(\"reviews (TFIDF) After vectorizations\")\n",
    "print(X_train_review_tfidf.shape, y_train.shape)\n",
    "print(X_test_review_tfidf.shape, y_test.shape)\n",
    "print(\"=\"*100)"
   ]
  },
  {
   "cell_type": "markdown",
   "metadata": {},
   "source": [
    "Normalizing the numerical feature 'usefulCount'"
   ]
  },
  {
   "cell_type": "markdown",
   "metadata": {},
   "source": [
    "### Encoding numerical features:"
   ]
  },
  {
   "cell_type": "code",
   "execution_count": 13,
   "metadata": {},
   "outputs": [
    {
     "name": "stderr",
     "output_type": "stream",
     "text": [
      "C:\\Users\\sairam.chennapragada\\AppData\\Local\\Continuum\\anaconda3\\lib\\site-packages\\ipykernel_launcher.py:7: ResourceWarning: unclosed file <_io.BufferedWriter name='normalizer_usefulCount.pickle'>\n",
      "  import sys\n"
     ]
    },
    {
     "name": "stdout",
     "output_type": "stream",
     "text": [
      "usefulCount After vectorizations\n",
      "(161297, 1) (161297,)\n",
      "(53766, 1) (53766,)\n",
      "====================================================================================================\n"
     ]
    }
   ],
   "source": [
    "normalizer_usefulCount = Normalizer()\n",
    "\n",
    "# encoding numerical features: Price\n",
    "normalizer_usefulCount.fit(X_train['usefulCount'].values.reshape(-1,1))\n",
    "\n",
    "# Save the fitted normalizer to the disk - To reuse it in production\n",
    "pickle.dump(normalizer_usefulCount, open(\"normalizer_usefulCount.pickle\", \"wb\"))\n",
    "\n",
    "X_train_usefulCount_norm = normalizer_usefulCount.transform(X_train['usefulCount'].values.reshape(-1,1))\n",
    "X_test_usefulCount_norm = normalizer_usefulCount.transform(X_test['usefulCount'].values.reshape(-1,1))\n",
    "print(\"usefulCount After vectorizations\")\n",
    "print(X_train_usefulCount_norm.shape, y_train.shape)\n",
    "print(X_test_usefulCount_norm.shape, y_test.shape)\n",
    "print(\"=\"*100)"
   ]
  },
  {
   "cell_type": "markdown",
   "metadata": {},
   "source": [
    "### Concatinating all the features"
   ]
  },
  {
   "cell_type": "code",
   "execution_count": 14,
   "metadata": {},
   "outputs": [],
   "source": [
    "# X train stack\n",
    "X_tr = hstack((X_train_drugName_tfidf, \n",
    "               X_train_condition_tfidf, \n",
    "               X_train_review_tfidf, \n",
    "               X_train_usefulCount_norm)).tocsr()\n",
    "\n",
    "# X test stack\n",
    "X_te = hstack((X_test_drugName_tfidf, \n",
    "               X_test_condition_tfidf, \n",
    "               X_test_review_tfidf, \n",
    "               X_test_usefulCount_norm)).tocsr()"
   ]
  },
  {
   "cell_type": "code",
   "execution_count": 15,
   "metadata": {},
   "outputs": [],
   "source": [
    "# Save the preprocessed, cleaned, and stacked train and test data to disk\n",
    "np.save('X_train',X_tr)\n",
    "np.save('y_train',y_train)\n",
    "np.save('X_test',X_te)\n",
    "np.save('y_test',y_test)"
   ]
  },
  {
   "cell_type": "markdown",
   "metadata": {},
   "source": [
    "### Apply KNN with Grid Search CV"
   ]
  },
  {
   "cell_type": "code",
   "execution_count": 16,
   "metadata": {},
   "outputs": [
    {
     "name": "stdout",
     "output_type": "stream",
     "text": [
      "Fitting 3 folds for each of 8 candidates, totalling 24 fits\n",
      "[Parallel(n_jobs=1)]: Using backend SequentialBackend with 1 concurrent workers.\n",
      "[CV] n_neighbors=3 ...................................................\n",
      "[CV] ... n_neighbors=3, score=(train=0.925, test=0.711), total=12.0min\n",
      "[Parallel(n_jobs=1)]: Done   1 out of   1 | elapsed: 32.4min remaining:    0.0s\n",
      "[CV] n_neighbors=3 ...................................................\n",
      "[CV] ... n_neighbors=3, score=(train=0.926, test=0.718), total=10.4min\n",
      "[Parallel(n_jobs=1)]: Done   2 out of   2 | elapsed: 63.1min remaining:    0.0s\n",
      "[CV] n_neighbors=3 ...................................................\n",
      "[CV] ... n_neighbors=3, score=(train=0.926, test=0.714), total=10.2min\n",
      "[Parallel(n_jobs=1)]: Done   3 out of   3 | elapsed: 93.7min remaining:    0.0s\n",
      "[CV] n_neighbors=5 ...................................................\n",
      "[CV] ... n_neighbors=5, score=(train=0.894, test=0.734), total=10.8min\n",
      "[Parallel(n_jobs=1)]: Done   4 out of   4 | elapsed: 126.2min remaining:    0.0s\n",
      "[CV] n_neighbors=5 ...................................................\n",
      "[CV] ... n_neighbors=5, score=(train=0.894, test=0.739), total=11.0min\n",
      "[Parallel(n_jobs=1)]: Done   5 out of   5 | elapsed: 159.2min remaining:    0.0s\n",
      "[CV] n_neighbors=5 ...................................................\n",
      "[CV] ... n_neighbors=5, score=(train=0.894, test=0.738), total=11.2min\n",
      "[Parallel(n_jobs=1)]: Done   6 out of   6 | elapsed: 192.5min remaining:    0.0s\n",
      "[CV] n_neighbors=7 ...................................................\n",
      "[CV] ... n_neighbors=7, score=(train=0.875, test=0.744), total=10.8min\n",
      "[Parallel(n_jobs=1)]: Done   7 out of   7 | elapsed: 225.3min remaining:    0.0s\n",
      "[CV] n_neighbors=7 ...................................................\n",
      "[CV] ... n_neighbors=7, score=(train=0.874, test=0.750), total=11.1min\n",
      "[Parallel(n_jobs=1)]: Done   8 out of   8 | elapsed: 258.3min remaining:    0.0s\n",
      "[CV] n_neighbors=7 ...................................................\n",
      "[CV] ... n_neighbors=7, score=(train=0.874, test=0.750), total=11.0min\n",
      "[Parallel(n_jobs=1)]: Done   9 out of   9 | elapsed: 291.9min remaining:    0.0s\n",
      "[CV] n_neighbors=10 ..................................................\n",
      "[CV] .. n_neighbors=10, score=(train=0.855, test=0.753), total=11.1min\n",
      "[Parallel(n_jobs=1)]: Done  10 out of  10 | elapsed: 324.6min remaining:    0.0s\n",
      "[CV] n_neighbors=10 ..................................................\n",
      "[CV] .. n_neighbors=10, score=(train=0.856, test=0.758), total=11.0min\n",
      "[Parallel(n_jobs=1)]: Done  11 out of  11 | elapsed: 357.9min remaining:    0.0s\n",
      "[CV] n_neighbors=10 ..................................................\n",
      "[CV] .. n_neighbors=10, score=(train=0.855, test=0.759), total=11.0min\n",
      "[Parallel(n_jobs=1)]: Done  12 out of  12 | elapsed: 390.8min remaining:    0.0s\n",
      "[CV] n_neighbors=15 ..................................................\n",
      "[CV] .. n_neighbors=15, score=(train=0.835, test=0.761), total=10.8min\n",
      "[Parallel(n_jobs=1)]: Done  13 out of  13 | elapsed: 423.3min remaining:    0.0s\n",
      "[CV] n_neighbors=15 ..................................................\n",
      "[CV] .. n_neighbors=15, score=(train=0.836, test=0.762), total=11.0min\n",
      "[Parallel(n_jobs=1)]: Done  14 out of  14 | elapsed: 456.2min remaining:    0.0s\n",
      "[CV] n_neighbors=15 ..................................................\n",
      "[CV] .. n_neighbors=15, score=(train=0.836, test=0.763), total=11.0min\n",
      "[Parallel(n_jobs=1)]: Done  15 out of  15 | elapsed: 489.1min remaining:    0.0s\n",
      "[CV] n_neighbors=30 ..................................................\n",
      "[CV] .. n_neighbors=30, score=(train=0.806, test=0.762), total=10.8min\n",
      "[Parallel(n_jobs=1)]: Done  16 out of  16 | elapsed: 521.5min remaining:    0.0s\n",
      "[CV] n_neighbors=30 ..................................................\n",
      "[CV] .. n_neighbors=30, score=(train=0.808, test=0.763), total=11.0min\n",
      "[Parallel(n_jobs=1)]: Done  17 out of  17 | elapsed: 554.4min remaining:    0.0s\n",
      "[CV] n_neighbors=30 ..................................................\n",
      "[CV] .. n_neighbors=30, score=(train=0.806, test=0.765), total=11.0min\n",
      "[Parallel(n_jobs=1)]: Done  18 out of  18 | elapsed: 587.3min remaining:    0.0s\n",
      "[CV] n_neighbors=50 ..................................................\n",
      "[CV] .. n_neighbors=50, score=(train=0.788, test=0.758), total=10.8min\n",
      "[Parallel(n_jobs=1)]: Done  19 out of  19 | elapsed: 619.8min remaining:    0.0s\n",
      "[CV] n_neighbors=50 ..................................................\n",
      "[CV] .. n_neighbors=50, score=(train=0.789, test=0.760), total=11.0min\n",
      "[Parallel(n_jobs=1)]: Done  20 out of  20 | elapsed: 652.7min remaining:    0.0s\n",
      "[CV] n_neighbors=50 ..................................................\n",
      "[CV] .. n_neighbors=50, score=(train=0.788, test=0.761), total=11.3min\n",
      "[Parallel(n_jobs=1)]: Done  21 out of  21 | elapsed: 686.1min remaining:    0.0s\n",
      "[CV] n_neighbors=100 .................................................\n",
      "[CV] . n_neighbors=100, score=(train=0.767, test=0.751), total=11.1min\n",
      "[Parallel(n_jobs=1)]: Done  22 out of  22 | elapsed: 719.3min remaining:    0.0s\n",
      "[CV] n_neighbors=100 .................................................\n",
      "[CV] . n_neighbors=100, score=(train=0.769, test=0.752), total=11.4min\n",
      "[Parallel(n_jobs=1)]: Done  23 out of  23 | elapsed: 753.7min remaining:    0.0s\n",
      "[CV] n_neighbors=100 .................................................\n",
      "[CV] . n_neighbors=100, score=(train=0.768, test=0.753), total=11.4min\n",
      "[Parallel(n_jobs=1)]: Done  24 out of  24 | elapsed: 787.8min remaining:    0.0s\n",
      "[Parallel(n_jobs=1)]: Done  24 out of  24 | elapsed: 787.8min finished\n"
     ]
    },
    {
     "data": {
      "text/plain": [
       "GridSearchCV(cv=3, error_score='raise-deprecating',\n",
       "             estimator=KNeighborsClassifier(algorithm='auto', leaf_size=30,\n",
       "                                            metric='minkowski',\n",
       "                                            metric_params=None, n_jobs=None,\n",
       "                                            n_neighbors=5, p=2,\n",
       "                                            weights='uniform'),\n",
       "             iid='warn', n_jobs=None,\n",
       "             param_grid={'n_neighbors': [3, 5, 7, 10, 15, 30, 50, 100]},\n",
       "             pre_dispatch='2*n_jobs', refit=True, return_train_score=True,\n",
       "             scoring='roc_auc', verbose=100)"
      ]
     },
     "execution_count": 16,
     "metadata": {},
     "output_type": "execute_result"
    }
   ],
   "source": [
    "neigh = KNeighborsClassifier()\n",
    "parameters = {'n_neighbors':[3,5,7,10,15,30,50,100]}\n",
    "clf = GridSearchCV(neigh, \n",
    "                   parameters, \n",
    "                   cv=3, \n",
    "                   scoring='roc_auc',\n",
    "                   return_train_score=True,\n",
    "                   verbose = 100)\n",
    "clf.fit(X_tr, y_train)"
   ]
  },
  {
   "cell_type": "code",
   "execution_count": 17,
   "metadata": {},
   "outputs": [
    {
     "data": {
      "text/html": [
       "<div>\n",
       "<style scoped>\n",
       "    .dataframe tbody tr th:only-of-type {\n",
       "        vertical-align: middle;\n",
       "    }\n",
       "\n",
       "    .dataframe tbody tr th {\n",
       "        vertical-align: top;\n",
       "    }\n",
       "\n",
       "    .dataframe thead th {\n",
       "        text-align: right;\n",
       "    }\n",
       "</style>\n",
       "<table border=\"1\" class=\"dataframe\">\n",
       "  <thead>\n",
       "    <tr style=\"text-align: right;\">\n",
       "      <th></th>\n",
       "      <th>mean_fit_time</th>\n",
       "      <th>std_fit_time</th>\n",
       "      <th>mean_score_time</th>\n",
       "      <th>std_score_time</th>\n",
       "      <th>param_n_neighbors</th>\n",
       "      <th>params</th>\n",
       "      <th>split0_test_score</th>\n",
       "      <th>split1_test_score</th>\n",
       "      <th>split2_test_score</th>\n",
       "      <th>mean_test_score</th>\n",
       "      <th>std_test_score</th>\n",
       "      <th>rank_test_score</th>\n",
       "      <th>split0_train_score</th>\n",
       "      <th>split1_train_score</th>\n",
       "      <th>split2_train_score</th>\n",
       "      <th>mean_train_score</th>\n",
       "      <th>std_train_score</th>\n",
       "    </tr>\n",
       "  </thead>\n",
       "  <tbody>\n",
       "    <tr>\n",
       "      <th>0</th>\n",
       "      <td>5.519649</td>\n",
       "      <td>6.033249</td>\n",
       "      <td>647.725714</td>\n",
       "      <td>51.959966</td>\n",
       "      <td>3</td>\n",
       "      <td>{'n_neighbors': 3}</td>\n",
       "      <td>0.710785</td>\n",
       "      <td>0.717861</td>\n",
       "      <td>0.713782</td>\n",
       "      <td>0.714143</td>\n",
       "      <td>0.002900</td>\n",
       "      <td>8</td>\n",
       "      <td>0.925369</td>\n",
       "      <td>0.925899</td>\n",
       "      <td>0.925733</td>\n",
       "      <td>0.925667</td>\n",
       "      <td>0.000221</td>\n",
       "    </tr>\n",
       "    <tr>\n",
       "      <th>1</th>\n",
       "      <td>1.256072</td>\n",
       "      <td>0.012028</td>\n",
       "      <td>660.302767</td>\n",
       "      <td>9.345397</td>\n",
       "      <td>5</td>\n",
       "      <td>{'n_neighbors': 5}</td>\n",
       "      <td>0.733901</td>\n",
       "      <td>0.738810</td>\n",
       "      <td>0.737670</td>\n",
       "      <td>0.736794</td>\n",
       "      <td>0.002098</td>\n",
       "      <td>7</td>\n",
       "      <td>0.894013</td>\n",
       "      <td>0.893525</td>\n",
       "      <td>0.893603</td>\n",
       "      <td>0.893714</td>\n",
       "      <td>0.000214</td>\n",
       "    </tr>\n",
       "    <tr>\n",
       "      <th>2</th>\n",
       "      <td>1.322742</td>\n",
       "      <td>0.102000</td>\n",
       "      <td>656.058524</td>\n",
       "      <td>6.089804</td>\n",
       "      <td>7</td>\n",
       "      <td>{'n_neighbors': 7}</td>\n",
       "      <td>0.744372</td>\n",
       "      <td>0.749819</td>\n",
       "      <td>0.749844</td>\n",
       "      <td>0.748011</td>\n",
       "      <td>0.002574</td>\n",
       "      <td>6</td>\n",
       "      <td>0.874627</td>\n",
       "      <td>0.874435</td>\n",
       "      <td>0.874237</td>\n",
       "      <td>0.874433</td>\n",
       "      <td>0.000159</td>\n",
       "    </tr>\n",
       "    <tr>\n",
       "      <th>3</th>\n",
       "      <td>1.294407</td>\n",
       "      <td>0.055044</td>\n",
       "      <td>661.480834</td>\n",
       "      <td>2.712912</td>\n",
       "      <td>10</td>\n",
       "      <td>{'n_neighbors': 10}</td>\n",
       "      <td>0.752904</td>\n",
       "      <td>0.758061</td>\n",
       "      <td>0.759392</td>\n",
       "      <td>0.756786</td>\n",
       "      <td>0.002798</td>\n",
       "      <td>4</td>\n",
       "      <td>0.855179</td>\n",
       "      <td>0.855926</td>\n",
       "      <td>0.854930</td>\n",
       "      <td>0.855345</td>\n",
       "      <td>0.000423</td>\n",
       "    </tr>\n",
       "    <tr>\n",
       "      <th>4</th>\n",
       "      <td>1.340743</td>\n",
       "      <td>0.020823</td>\n",
       "      <td>656.027523</td>\n",
       "      <td>4.814631</td>\n",
       "      <td>15</td>\n",
       "      <td>{'n_neighbors': 15}</td>\n",
       "      <td>0.760505</td>\n",
       "      <td>0.762037</td>\n",
       "      <td>0.762629</td>\n",
       "      <td>0.761724</td>\n",
       "      <td>0.000895</td>\n",
       "      <td>2</td>\n",
       "      <td>0.835320</td>\n",
       "      <td>0.836391</td>\n",
       "      <td>0.835812</td>\n",
       "      <td>0.835841</td>\n",
       "      <td>0.000438</td>\n",
       "    </tr>\n",
       "    <tr>\n",
       "      <th>5</th>\n",
       "      <td>1.294407</td>\n",
       "      <td>0.029636</td>\n",
       "      <td>654.955795</td>\n",
       "      <td>4.980776</td>\n",
       "      <td>30</td>\n",
       "      <td>{'n_neighbors': 30}</td>\n",
       "      <td>0.761573</td>\n",
       "      <td>0.763226</td>\n",
       "      <td>0.764638</td>\n",
       "      <td>0.763146</td>\n",
       "      <td>0.001253</td>\n",
       "      <td>1</td>\n",
       "      <td>0.805918</td>\n",
       "      <td>0.807506</td>\n",
       "      <td>0.805712</td>\n",
       "      <td>0.806379</td>\n",
       "      <td>0.000802</td>\n",
       "    </tr>\n",
       "    <tr>\n",
       "      <th>6</th>\n",
       "      <td>1.269406</td>\n",
       "      <td>0.002625</td>\n",
       "      <td>660.472435</td>\n",
       "      <td>10.409011</td>\n",
       "      <td>50</td>\n",
       "      <td>{'n_neighbors': 50}</td>\n",
       "      <td>0.758189</td>\n",
       "      <td>0.759910</td>\n",
       "      <td>0.760779</td>\n",
       "      <td>0.759626</td>\n",
       "      <td>0.001076</td>\n",
       "      <td>3</td>\n",
       "      <td>0.788032</td>\n",
       "      <td>0.789100</td>\n",
       "      <td>0.788218</td>\n",
       "      <td>0.788450</td>\n",
       "      <td>0.000466</td>\n",
       "    </tr>\n",
       "    <tr>\n",
       "      <th>7</th>\n",
       "      <td>1.329804</td>\n",
       "      <td>0.075290</td>\n",
       "      <td>677.886131</td>\n",
       "      <td>7.693244</td>\n",
       "      <td>100</td>\n",
       "      <td>{'n_neighbors': 100}</td>\n",
       "      <td>0.750947</td>\n",
       "      <td>0.751882</td>\n",
       "      <td>0.753103</td>\n",
       "      <td>0.751978</td>\n",
       "      <td>0.000883</td>\n",
       "      <td>5</td>\n",
       "      <td>0.766879</td>\n",
       "      <td>0.769107</td>\n",
       "      <td>0.767547</td>\n",
       "      <td>0.767844</td>\n",
       "      <td>0.000934</td>\n",
       "    </tr>\n",
       "  </tbody>\n",
       "</table>\n",
       "</div>"
      ],
      "text/plain": [
       "   mean_fit_time  std_fit_time  mean_score_time  std_score_time  \\\n",
       "0       5.519649      6.033249       647.725714       51.959966   \n",
       "1       1.256072      0.012028       660.302767        9.345397   \n",
       "2       1.322742      0.102000       656.058524        6.089804   \n",
       "3       1.294407      0.055044       661.480834        2.712912   \n",
       "4       1.340743      0.020823       656.027523        4.814631   \n",
       "5       1.294407      0.029636       654.955795        4.980776   \n",
       "6       1.269406      0.002625       660.472435       10.409011   \n",
       "7       1.329804      0.075290       677.886131        7.693244   \n",
       "\n",
       "  param_n_neighbors                params  split0_test_score  \\\n",
       "0                 3    {'n_neighbors': 3}           0.710785   \n",
       "1                 5    {'n_neighbors': 5}           0.733901   \n",
       "2                 7    {'n_neighbors': 7}           0.744372   \n",
       "3                10   {'n_neighbors': 10}           0.752904   \n",
       "4                15   {'n_neighbors': 15}           0.760505   \n",
       "5                30   {'n_neighbors': 30}           0.761573   \n",
       "6                50   {'n_neighbors': 50}           0.758189   \n",
       "7               100  {'n_neighbors': 100}           0.750947   \n",
       "\n",
       "   split1_test_score  split2_test_score  mean_test_score  std_test_score  \\\n",
       "0           0.717861           0.713782         0.714143        0.002900   \n",
       "1           0.738810           0.737670         0.736794        0.002098   \n",
       "2           0.749819           0.749844         0.748011        0.002574   \n",
       "3           0.758061           0.759392         0.756786        0.002798   \n",
       "4           0.762037           0.762629         0.761724        0.000895   \n",
       "5           0.763226           0.764638         0.763146        0.001253   \n",
       "6           0.759910           0.760779         0.759626        0.001076   \n",
       "7           0.751882           0.753103         0.751978        0.000883   \n",
       "\n",
       "   rank_test_score  split0_train_score  split1_train_score  \\\n",
       "0                8            0.925369            0.925899   \n",
       "1                7            0.894013            0.893525   \n",
       "2                6            0.874627            0.874435   \n",
       "3                4            0.855179            0.855926   \n",
       "4                2            0.835320            0.836391   \n",
       "5                1            0.805918            0.807506   \n",
       "6                3            0.788032            0.789100   \n",
       "7                5            0.766879            0.769107   \n",
       "\n",
       "   split2_train_score  mean_train_score  std_train_score  \n",
       "0            0.925733          0.925667         0.000221  \n",
       "1            0.893603          0.893714         0.000214  \n",
       "2            0.874237          0.874433         0.000159  \n",
       "3            0.854930          0.855345         0.000423  \n",
       "4            0.835812          0.835841         0.000438  \n",
       "5            0.805712          0.806379         0.000802  \n",
       "6            0.788218          0.788450         0.000466  \n",
       "7            0.767547          0.767844         0.000934  "
      ]
     },
     "execution_count": 17,
     "metadata": {},
     "output_type": "execute_result"
    }
   ],
   "source": [
    "results = pd.DataFrame.from_dict(clf.cv_results_)\n",
    "results = results.sort_values(['param_n_neighbors'])\n",
    "results"
   ]
  },
  {
   "cell_type": "markdown",
   "metadata": {},
   "source": [
    "Plotting the ROC-AUC for the train and cross validation against the K value (Hyper parameter)"
   ]
  },
  {
   "cell_type": "code",
   "execution_count": 18,
   "metadata": {},
   "outputs": [
    {
     "data": {
      "image/png": "[encoded data removed]",
      "text/plain": [
       "<Figure size 432x288 with 1 Axes>"
      ]
     },
     "metadata": {},
     "output_type": "display_data"
    }
   ],
   "source": [
    "train_auc= results['mean_train_score']\n",
    "train_auc_std= results['std_train_score']\n",
    "cv_auc = results['mean_test_score'] \n",
    "cv_auc_std= results['std_test_score']\n",
    "K =  results['param_n_neighbors']\n",
    "\n",
    "plt.plot(K, train_auc, label='Train AUC')\n",
    "plt.plot(K, cv_auc, label='CV AUC')\n",
    "plt.scatter(K, train_auc, label='Train AUC points')\n",
    "plt.scatter(K, cv_auc, label='CV AUC points')\n",
    "plt.legend()\n",
    "plt.xlabel(\"K: hyperparameter\")\n",
    "plt.ylabel(\"AUC\")\n",
    "plt.title(\"Hyper parameter Vs AUC plot\")\n",
    "plt.grid()\n",
    "plt.show()"
   ]
  },
  {
   "cell_type": "markdown",
   "metadata": {},
   "source": [
    "Based on the above curve the best K value with maximum Area under the curve is choosen to build the model"
   ]
  },
  {
   "cell_type": "markdown",
   "metadata": {},
   "source": [
    "### Best K vaule from GridSearchCV"
   ]
  },
  {
   "cell_type": "code",
   "execution_count": 46,
   "metadata": {},
   "outputs": [
    {
     "name": "stdout",
     "output_type": "stream",
     "text": [
      "30\n"
     ]
    }
   ],
   "source": [
    "best_k = results[results['rank_test_score'] == 1]['param_n_neighbors']\n",
    "best_k = int(best_k)\n",
    "print(best_k)"
   ]
  },
  {
   "cell_type": "markdown",
   "metadata": {},
   "source": [
    "### Build & Save the final model"
   ]
  },
  {
   "cell_type": "code",
   "execution_count": 20,
   "metadata": {},
   "outputs": [
    {
     "name": "stderr",
     "output_type": "stream",
     "text": [
      "C:\\Users\\sairam.chennapragada\\AppData\\Local\\Continuum\\anaconda3\\lib\\site-packages\\ipykernel_launcher.py:7: ResourceWarning: unclosed file <_io.BufferedWriter name='knn_classifier.sav'>\n",
      "  import sys\n"
     ]
    }
   ],
   "source": [
    "# Build the final model with best_k value\n",
    "knn_clf = KNeighborsClassifier(n_neighbors=best_k)\n",
    "knn_clf.fit(X_tr, y_train)\n",
    "\n",
    "# save the model to disk\n",
    "filename = 'knn_classifier.sav'\n",
    "pickle.dump(knn_clf, open(filename, 'wb'))"
   ]
  },
  {
   "cell_type": "code",
   "execution_count": 21,
   "metadata": {},
   "outputs": [
    {
     "data": {
      "text/plain": [
       "array(['NEG', 'POS'], dtype=object)"
      ]
     },
     "execution_count": 21,
     "metadata": {},
     "output_type": "execute_result"
    }
   ],
   "source": [
    "knn_clf.classes_"
   ]
  },
  {
   "cell_type": "markdown",
   "metadata": {},
   "source": [
    "### Predict on the train & test set"
   ]
  },
  {
   "cell_type": "code",
   "execution_count": 22,
   "metadata": {},
   "outputs": [],
   "source": [
    "y_train_predict = knn_clf.predict_proba(X_tr)\n",
    "y_test_predict = knn_clf.predict_proba(X_te)"
   ]
  },
  {
   "cell_type": "markdown",
   "metadata": {},
   "source": [
    "### ROC-AUC for train & test set"
   ]
  },
  {
   "cell_type": "code",
   "execution_count": 23,
   "metadata": {},
   "outputs": [
    {
     "data": {
      "image/png": "[encoded data removed]",
      "text/plain": [
       "<Figure size 432x288 with 1 Axes>"
      ]
     },
     "metadata": {},
     "output_type": "display_data"
    }
   ],
   "source": [
    "train_fpr, train_tpr, tr_thresholds = roc_curve(y_train, y_train_predict[:,1], pos_label = 'POS')\n",
    "test_fpr, test_tpr, te_thresholds = roc_curve(y_test, y_test_predict[:,1], pos_label = 'POS')\n",
    "\n",
    "plt.plot(train_fpr, train_tpr, label=\"train AUC =\"+str(auc(train_fpr, train_tpr)))\n",
    "plt.plot(test_fpr, test_tpr, label=\"test AUC =\"+str(auc(test_fpr, test_tpr)))\n",
    "plt.legend()\n",
    "plt.xlabel(\"K: hyperparameter\")\n",
    "plt.ylabel(\"AUC\")\n",
    "plt.title(\"ERROR PLOTS\")\n",
    "plt.grid()\n",
    "plt.show()"
   ]
  },
  {
   "cell_type": "markdown",
   "metadata": {},
   "source": [
    "### Confusion matrix for train & test set"
   ]
  },
  {
   "cell_type": "code",
   "execution_count": 24,
   "metadata": {},
   "outputs": [
    {
     "name": "stdout",
     "output_type": "stream",
     "text": [
      "the maximum value of tpr*(1-fpr) 0.5410343501323724 for threshold 0.733\n"
     ]
    }
   ],
   "source": [
    "# Here we dont want to miss any negative comments by falsly classifying them as positive\n",
    "# Choose a threshold that will give the least fpr\n",
    "def find_best_threshold(threshould, fpr, tpr):\n",
    "    t = threshould[np.argmax(tpr*(1-fpr))]\n",
    "    print(\"the maximum value of tpr*(1-fpr)\", max(tpr*(1-fpr)), \"for threshold\", np.round(t,3))\n",
    "    return t\n",
    "\n",
    "def predict_with_best_t(proba, threshould):\n",
    "    predictions = []\n",
    "    for i in proba:\n",
    "        if i>=threshould:\n",
    "            predictions.append('POS')\n",
    "        else:\n",
    "            predictions.append('NEG')\n",
    "    return predictions\n",
    "\n",
    "best_t = find_best_threshold(tr_thresholds, train_fpr, train_tpr)"
   ]
  },
  {
   "cell_type": "code",
   "execution_count": 25,
   "metadata": {},
   "outputs": [
    {
     "name": "stderr",
     "output_type": "stream",
     "text": [
      "C:\\Users\\sairam.chennapragada\\AppData\\Local\\Continuum\\anaconda3\\lib\\site-packages\\seaborn\\matrix.py:269: PendingDeprecationWarning: \n",
      "The label function will be deprecated in a future version. Use Tick.label1 instead.\n",
      "  fontsize = tick.label.get_size()\n"
     ]
    },
    {
     "data": {
      "image/png": "[encoded data removed]",
      "text/plain": [
       "<Figure size 432x360 with 2 Axes>"
      ]
     },
     "metadata": {},
     "output_type": "display_data"
    },
    {
     "data": {
      "image/png": "[encoded data removed]",
      "text/plain": [
       "<Figure size 432x360 with 2 Axes>"
      ]
     },
     "metadata": {},
     "output_type": "display_data"
    }
   ],
   "source": [
    "# Train confusion matrix\n",
    "data = pd.DataFrame(confusion_matrix(y_train, predict_with_best_t(y_train_predict[:,1], best_t)),\n",
    "                    columns=[\"NEG\", \"POS\"], \n",
    "                    index = [\"NEG\", \"POS\"])\n",
    "data.index.name = 'Actual'\n",
    "data.columns.name = 'Predicted'\n",
    "plt.figure(figsize = (6,5))\n",
    "sn.set(font_scale=1.4)\n",
    "ax = sn.heatmap(data, cmap=\"Blues\", annot=True,annot_kws={\"size\": 16}, fmt='g')\n",
    "ax.xaxis.tick_top() \n",
    "ax.xaxis.set_label_position('top')\n",
    "\n",
    "# Test confusion matrix\n",
    "data = pd.DataFrame(confusion_matrix(y_test, predict_with_best_t(y_test_predict[:,1], best_t)),\n",
    "                    columns=[\"NEG\", \"POS\"], \n",
    "                    index = [\"NEG\", \"POS\"])\n",
    "data.index.name = 'Actual'\n",
    "data.columns.name = 'Predicted'\n",
    "plt.figure(figsize = (6,5))\n",
    "sn.set(font_scale=1.4)\n",
    "ax = sn.heatmap(data, cmap=\"Blues\", annot=True,annot_kws={\"size\": 16}, fmt='g')\n",
    "ax.xaxis.tick_top() \n",
    "ax.xaxis.set_label_position('top')"
   ]
  },
  {
   "cell_type": "markdown",
   "metadata": {},
   "source": [
    "### Metrics of evaluation"
   ]
  },
  {
   "cell_type": "code",
   "execution_count": 26,
   "metadata": {},
   "outputs": [
    {
     "name": "stdout",
     "output_type": "stream",
     "text": [
      "==================================================\n",
      "Train - True Positives:  84928\n",
      "Train - False Positivs:  13407\n",
      "==================================================\n",
      "Test - True Positives:  27579\n",
      "Test - False Positives:  5415\n",
      "==================================================\n",
      "Best threshold for minimum for fpr:  0.7333333333333333\n",
      "Best K for the model:  30\n",
      "==================================================\n",
      "Train Classification report\n",
      "              precision    recall  f1-score   support\n",
      "\n",
      "         NEG       0.55      0.72      0.62     48088\n",
      "         POS       0.86      0.75      0.80    113209\n",
      "\n",
      "    accuracy                           0.74    161297\n",
      "   macro avg       0.71      0.74      0.71    161297\n",
      "weighted avg       0.77      0.74      0.75    161297\n",
      "\n",
      "==================================================\n",
      "Test Classification report\n",
      "              precision    recall  f1-score   support\n",
      "\n",
      "         NEG       0.52      0.67      0.58     16207\n",
      "         POS       0.84      0.73      0.78     37559\n",
      "\n",
      "    accuracy                           0.71     53766\n",
      "   macro avg       0.68      0.70      0.68     53766\n",
      "weighted avg       0.74      0.71      0.72     53766\n",
      "\n",
      "==================================================\n"
     ]
    }
   ],
   "source": [
    "train_tn, train_fp, train_fn, train_tp = confusion_matrix(y_train,predict_with_best_t(y_train_predict[:,1], best_t)).ravel()\n",
    "test_tn, test_fp, test_fn, test_tp = confusion_matrix(y_test,predict_with_best_t(y_test_predict[:,1], best_t)).ravel()\n",
    "\n",
    "# Train metrics\n",
    "print(\"=\"*50)\n",
    "print(\"Train - True Positives: \", train_tp)\n",
    "print(\"Train - False Positivs: \", train_fp)\n",
    "\n",
    "# Test metrics\n",
    "print(\"=\"*50)\n",
    "print(\"Test - True Positives: \",test_tp)\n",
    "print(\"Test - False Positives: \",test_fp)\n",
    "print(\"=\"*50)\n",
    "print(\"Best threshold for minimum for fpr: \",best_t )\n",
    "print(\"Best K for the model: \", best_k)\n",
    "print(\"=\"*50)\n",
    "print(\"Train Classification report\")\n",
    "print(classification_report(y_train, \n",
    "                            predict_with_best_t(y_train_predict[:,1], best_t), \n",
    "                            target_names=[\"NEG\",\"POS\"]))\n",
    "print(\"=\"*50)\n",
    "print(\"Test Classification report\")\n",
    "print(classification_report(y_test, \n",
    "                            predict_with_best_t(y_test_predict[:,1], best_t), \n",
    "                            target_names=[\"NEG\",\"POS\"]))\n",
    "print(\"=\"*50)"
   ]
  },
  {
   "cell_type": "markdown",
   "metadata": {},
   "source": [
    "### New data point"
   ]
  },
  {
   "cell_type": "markdown",
   "metadata": {},
   "source": [
    "Once the model is built and saved, any new data point can be classified using the pre trained classifier. But the new data point has to go through all the preprocessing steps that the test set has went through"
   ]
  },
  {
   "cell_type": "code",
   "execution_count": 45,
   "metadata": {},
   "outputs": [
    {
     "name": "stdout",
     "output_type": "stream",
     "text": [
      "Probability of class label 'NEG': 0.07\n",
      "Probability of class label 'POS': 0.93\n",
      "Total time elapsed for prediction: 10.76 secs\n"
     ]
    }
   ],
   "source": [
    "def prod_knn_classifier(new_data_point):\n",
    "    \"\"\"Methods takes a new data point and classifies using the pretrained model\"\"\"\n",
    "    # Step 1: Consider the same feature that were considered for training the model\n",
    "    test_data_point = pd.DataFrame(new_data_point)\n",
    "    # Step 2: Checking for missing values, Cleaning and preprocessing the text data\n",
    "    test_data_point['drugName'] = text_preprocessor(test_data_point['drugName'][0])\n",
    "    test_data_point['review'] = text_preprocessor(test_data_point['review'][0])\n",
    "    test_data_point['condition'] = text_preprocessor(test_data_point['condition'][0])\n",
    "\n",
    "    # Step 3: Vectorize text features, normalize numerical features\n",
    "    # Load the pickle file \n",
    "    with open(\"tfidfvectorizer_drugName.pickle\", 'rb') as pickle_file:\n",
    "        tfidfvectorizer_drugName = pickle.load(pickle_file)\n",
    "    test_data_point_drugName_tfidf = tfidfvectorizer_drugName.transform(test_data_point['drugName'].values)\n",
    "\n",
    "    # encoding categorical features: condition column\n",
    "    with open(\"tfidfvectorizer_condition.pickle\", 'rb') as pickle_file:\n",
    "        tfidfvectorizer_condition = pickle.load(pickle_file)\n",
    "    test_data_point_condition_tfidf = tfidfvectorizer_condition.transform(test_data_point['condition'].values)\n",
    "\n",
    "    # encoding categorical features: reviews column\n",
    "    with open(\"tfidfvectorizer_review.pickle\", 'rb') as pickle_file:\n",
    "        tfidfvectorizer_review = pickle.load(pickle_file)\n",
    "    test_data_point_review_tfidf = tfidfvectorizer_review.transform(test_data_point['review'].values)\n",
    "\n",
    "    # normalize neumerical features: usefulCount\n",
    "    with open(\"normalizer_usefulCount.pickle\", 'rb') as pickle_file:\n",
    "        normalizer_usefulCount = pickle.load(pickle_file)\n",
    "    test_data_usefulCount_normalized = normalizer_usefulCount.transform(test_data_point['usefulCount'].values.reshape(1,-1))\n",
    "    \n",
    "    # Step 4: Stack all the features\n",
    "    X_new_test = hstack((test_data_point_drugName_tfidf, \n",
    "                   test_data_point_condition_tfidf, \n",
    "                   test_data_point_review_tfidf, \n",
    "                   test_data_usefulCount_normalized)).tocsr()\n",
    "\n",
    "    # Step 5: Load the pre-trained model\n",
    "    with open(\"knn_classifier.sav\", 'rb') as pickle_file:\n",
    "        knn_classifier = pickle.load(pickle_file)\n",
    "\n",
    "    # Step 6: predict\n",
    "    y_test_predict = knn_classifier.predict_proba(X_new_test)\n",
    "    \n",
    "\n",
    "    # Step 7: probabilities of class labels\n",
    "    classification = None\n",
    "    NEG_class_prob = y_test_predict[0][0]\n",
    "    POS_class_prob = y_test_predict[0][1]\n",
    "    return NEG_class_prob,POS_class_prob\n",
    "\n",
    "# Classification on a single new data point\n",
    "new_data_point = {\"drugName\":\"Arthrotec\",\n",
    "                 \"condition\":\"Sciatica\",\n",
    "                 \"review\":\"It works!!!\",\n",
    "                 \"usefulCount\":[46]}\n",
    "\n",
    "NEG_class_prob,POS_class_prob = prod_knn_classifier(new_data_point)\n",
    "\n",
    "print(\"Probability of class label 'NEG': {}\".format(round(NEG_class_prob,2)))\n",
    "print(\"Probability of class label 'POS': {}\".format(round(POS_class_prob,2)))\n"
   ]
  }
 ],
 "metadata": {
  "kernelspec": {
   "display_name": "Python 3",
   "language": "python",
   "name": "python3"
  }
 },
 "nbformat": 4,
 "nbformat_minor": 2
}
